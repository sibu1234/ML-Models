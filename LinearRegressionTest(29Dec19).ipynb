{
 "cells": [
  {
   "cell_type": "code",
   "execution_count": 1,
   "metadata": {},
   "outputs": [],
   "source": [
    "import numpy as np\n",
    "import pandas as pd\n",
    "\n",
    "import matplotlib.pyplot as plt\n",
    "from pylab import rcParams\n",
    "import seaborn as sb\n",
    "\n",
    "import sklearn\n",
    "from sklearn.linear_model import LinearRegression\n",
    "from sklearn.preprocessing import scale\n",
    "from collections import Counter"
   ]
  },
  {
   "cell_type": "code",
   "execution_count": 2,
   "metadata": {},
   "outputs": [],
   "source": [
    "%matplotlib inline\n",
    "rcParams['figure.figsize']=5,4\n",
    "sb.set_style('whitegrid')"
   ]
  },
  {
   "cell_type": "code",
   "execution_count": 3,
   "metadata": {},
   "outputs": [],
   "source": [
    "filename='E:\\\\afitech\\\\Afitech PPML Datasets\\\\enrollment_forecast.csv'\n",
    "enroll=pd.read_csv(filename)"
   ]
  },
  {
   "cell_type": "code",
   "execution_count": 4,
   "metadata": {},
   "outputs": [
    {
     "data": {
      "text/html": [
       "<div>\n",
       "<style scoped>\n",
       "    .dataframe tbody tr th:only-of-type {\n",
       "        vertical-align: middle;\n",
       "    }\n",
       "\n",
       "    .dataframe tbody tr th {\n",
       "        vertical-align: top;\n",
       "    }\n",
       "\n",
       "    .dataframe thead th {\n",
       "        text-align: right;\n",
       "    }\n",
       "</style>\n",
       "<table border=\"1\" class=\"dataframe\">\n",
       "  <thead>\n",
       "    <tr style=\"text-align: right;\">\n",
       "      <th></th>\n",
       "      <th>year</th>\n",
       "      <th>roll</th>\n",
       "      <th>unem</th>\n",
       "      <th>hgrad</th>\n",
       "      <th>inc</th>\n",
       "    </tr>\n",
       "  </thead>\n",
       "  <tbody>\n",
       "    <tr>\n",
       "      <td>0</td>\n",
       "      <td>1</td>\n",
       "      <td>5501</td>\n",
       "      <td>8.1</td>\n",
       "      <td>9552</td>\n",
       "      <td>1923</td>\n",
       "    </tr>\n",
       "    <tr>\n",
       "      <td>1</td>\n",
       "      <td>2</td>\n",
       "      <td>5945</td>\n",
       "      <td>7.0</td>\n",
       "      <td>9680</td>\n",
       "      <td>1961</td>\n",
       "    </tr>\n",
       "    <tr>\n",
       "      <td>2</td>\n",
       "      <td>3</td>\n",
       "      <td>6629</td>\n",
       "      <td>7.3</td>\n",
       "      <td>9731</td>\n",
       "      <td>1979</td>\n",
       "    </tr>\n",
       "    <tr>\n",
       "      <td>3</td>\n",
       "      <td>4</td>\n",
       "      <td>7556</td>\n",
       "      <td>7.5</td>\n",
       "      <td>11666</td>\n",
       "      <td>2030</td>\n",
       "    </tr>\n",
       "    <tr>\n",
       "      <td>4</td>\n",
       "      <td>5</td>\n",
       "      <td>8716</td>\n",
       "      <td>7.0</td>\n",
       "      <td>14675</td>\n",
       "      <td>2112</td>\n",
       "    </tr>\n",
       "    <tr>\n",
       "      <td>5</td>\n",
       "      <td>6</td>\n",
       "      <td>9369</td>\n",
       "      <td>6.4</td>\n",
       "      <td>15265</td>\n",
       "      <td>2192</td>\n",
       "    </tr>\n",
       "    <tr>\n",
       "      <td>6</td>\n",
       "      <td>7</td>\n",
       "      <td>9920</td>\n",
       "      <td>6.5</td>\n",
       "      <td>15484</td>\n",
       "      <td>2235</td>\n",
       "    </tr>\n",
       "  </tbody>\n",
       "</table>\n",
       "</div>"
      ],
      "text/plain": [
       "   year  roll  unem  hgrad   inc\n",
       "0     1  5501   8.1   9552  1923\n",
       "1     2  5945   7.0   9680  1961\n",
       "2     3  6629   7.3   9731  1979\n",
       "3     4  7556   7.5  11666  2030\n",
       "4     5  8716   7.0  14675  2112\n",
       "5     6  9369   6.4  15265  2192\n",
       "6     7  9920   6.5  15484  2235"
      ]
     },
     "execution_count": 4,
     "metadata": {},
     "output_type": "execute_result"
    }
   ],
   "source": [
    "enroll.head(7)"
   ]
  },
  {
   "cell_type": "code",
   "execution_count": 5,
   "metadata": {},
   "outputs": [
    {
     "data": {
      "text/html": [
       "<div>\n",
       "<style scoped>\n",
       "    .dataframe tbody tr th:only-of-type {\n",
       "        vertical-align: middle;\n",
       "    }\n",
       "\n",
       "    .dataframe tbody tr th {\n",
       "        vertical-align: top;\n",
       "    }\n",
       "\n",
       "    .dataframe thead th {\n",
       "        text-align: right;\n",
       "    }\n",
       "</style>\n",
       "<table border=\"1\" class=\"dataframe\">\n",
       "  <thead>\n",
       "    <tr style=\"text-align: right;\">\n",
       "      <th></th>\n",
       "      <th>year</th>\n",
       "      <th>roll</th>\n",
       "      <th>unem</th>\n",
       "      <th>hgrad</th>\n",
       "      <th>inc</th>\n",
       "    </tr>\n",
       "  </thead>\n",
       "  <tbody>\n",
       "    <tr>\n",
       "      <td>year</td>\n",
       "      <td>1.000000</td>\n",
       "      <td>0.900934</td>\n",
       "      <td>0.378305</td>\n",
       "      <td>0.670300</td>\n",
       "      <td>0.944287</td>\n",
       "    </tr>\n",
       "    <tr>\n",
       "      <td>roll</td>\n",
       "      <td>0.900934</td>\n",
       "      <td>1.000000</td>\n",
       "      <td>0.391344</td>\n",
       "      <td>0.890294</td>\n",
       "      <td>0.949876</td>\n",
       "    </tr>\n",
       "    <tr>\n",
       "      <td>unem</td>\n",
       "      <td>0.378305</td>\n",
       "      <td>0.391344</td>\n",
       "      <td>1.000000</td>\n",
       "      <td>0.177376</td>\n",
       "      <td>0.282310</td>\n",
       "    </tr>\n",
       "    <tr>\n",
       "      <td>hgrad</td>\n",
       "      <td>0.670300</td>\n",
       "      <td>0.890294</td>\n",
       "      <td>0.177376</td>\n",
       "      <td>1.000000</td>\n",
       "      <td>0.820089</td>\n",
       "    </tr>\n",
       "    <tr>\n",
       "      <td>inc</td>\n",
       "      <td>0.944287</td>\n",
       "      <td>0.949876</td>\n",
       "      <td>0.282310</td>\n",
       "      <td>0.820089</td>\n",
       "      <td>1.000000</td>\n",
       "    </tr>\n",
       "  </tbody>\n",
       "</table>\n",
       "</div>"
      ],
      "text/plain": [
       "           year      roll      unem     hgrad       inc\n",
       "year   1.000000  0.900934  0.378305  0.670300  0.944287\n",
       "roll   0.900934  1.000000  0.391344  0.890294  0.949876\n",
       "unem   0.378305  0.391344  1.000000  0.177376  0.282310\n",
       "hgrad  0.670300  0.890294  0.177376  1.000000  0.820089\n",
       "inc    0.944287  0.949876  0.282310  0.820089  1.000000"
      ]
     },
     "execution_count": 5,
     "metadata": {},
     "output_type": "execute_result"
    }
   ],
   "source": [
    "enroll.corr()"
   ]
  },
  {
   "cell_type": "code",
   "execution_count": 6,
   "metadata": {},
   "outputs": [
    {
     "name": "stdout",
     "output_type": "stream",
     "text": [
      "    year   roll  unem  hgrad\n",
      "0      1   5501   8.1   9552\n",
      "1      2   5945   7.0   9680\n",
      "2      3   6629   7.3   9731\n",
      "3      4   7556   7.5  11666\n",
      "4      5   8716   7.0  14675\n",
      "5      6   9369   6.4  15265\n",
      "6      7   9920   6.5  15484\n",
      "7      8  10167   6.4  15723\n",
      "8      9  11084   6.3  16501\n",
      "9     10  12504   7.7  16890\n",
      "10    11  13746   8.2  17203\n",
      "11    12  13656   7.5  17707\n",
      "12    13  13850   7.4  18108\n",
      "13    14  14145   8.2  18266\n",
      "14    15  14888  10.1  19308\n",
      "15    16  14991   9.2  18224\n",
      "16    17  14836   7.7  18997\n",
      "17    18  14478   5.7  19505\n",
      "18    19  14539   6.5  19800\n",
      "19    20  14395   7.5  19546\n",
      "20    21  14599   7.3  19117\n",
      "21    22  14969   9.2  18774\n",
      "22    23  15107  10.1  17813\n",
      "23    24  14831   7.5  17304\n",
      "24    25  15081   8.8  16756\n",
      "25    26  15127   9.1  16749\n",
      "26    27  15856   8.8  16925\n",
      "27    28  15938   7.8  17231\n",
      "28    29  16081   7.0  16816\n"
     ]
    }
   ],
   "source": [
    "x=enroll.iloc[:,:4]\n",
    "y=enroll.iloc[:,4]\n",
    "print(x)"
   ]
  },
  {
   "cell_type": "code",
   "execution_count": 7,
   "metadata": {},
   "outputs": [
    {
     "name": "stdout",
     "output_type": "stream",
     "text": [
      "0     1923\n",
      "1     1961\n",
      "2     1979\n",
      "3     2030\n",
      "4     2112\n",
      "5     2192\n",
      "6     2235\n",
      "7     2351\n",
      "8     2411\n",
      "9     2475\n",
      "10    2524\n",
      "11    2674\n",
      "12    2833\n",
      "13    2863\n",
      "14    2839\n",
      "15    2898\n",
      "16    3123\n",
      "17    3195\n",
      "18    3239\n",
      "19    3129\n",
      "20    3100\n",
      "21    3008\n",
      "22    2983\n",
      "23    3069\n",
      "24    3151\n",
      "25    3127\n",
      "26    3179\n",
      "27    3207\n",
      "28    3345\n",
      "Name: inc, dtype: int64\n"
     ]
    }
   ],
   "source": [
    "print(y)"
   ]
  },
  {
   "cell_type": "code",
   "execution_count": 8,
   "metadata": {},
   "outputs": [],
   "source": [
    "#X,Y=scale(x),y"
   ]
  },
  {
   "cell_type": "code",
   "execution_count": 9,
   "metadata": {},
   "outputs": [],
   "source": [
    "#X"
   ]
  },
  {
   "cell_type": "code",
   "execution_count": 10,
   "metadata": {},
   "outputs": [],
   "source": [
    "#Y"
   ]
  },
  {
   "cell_type": "code",
   "execution_count": 11,
   "metadata": {},
   "outputs": [],
   "source": [
    "import sklearn\n",
    "from sklearn.model_selection import train_test_split\n",
    "from sklearn.linear_model import LinearRegression"
   ]
  },
  {
   "cell_type": "code",
   "execution_count": 12,
   "metadata": {},
   "outputs": [],
   "source": [
    "x_train, x_test, y_train, y_test=train_test_split(x,y,test_size=0.2,random_state=357)"
   ]
  },
  {
   "cell_type": "code",
   "execution_count": 13,
   "metadata": {},
   "outputs": [
    {
     "data": {
      "text/plain": [
       "LinearRegression(copy_X=True, fit_intercept=True, n_jobs=None, normalize=False)"
      ]
     },
     "execution_count": 13,
     "metadata": {},
     "output_type": "execute_result"
    }
   ],
   "source": [
    "lr_mod=LinearRegression()\n",
    "lr_mod.fit(x_train,y_train)"
   ]
  },
  {
   "cell_type": "code",
   "execution_count": 14,
   "metadata": {},
   "outputs": [
    {
     "name": "stdout",
     "output_type": "stream",
     "text": [
      "[3387.02306429 3036.23448343 3325.58967471 3146.32397975 3056.68387792\n",
      " 2686.70014506]\n"
     ]
    }
   ],
   "source": [
    "predictions=lr_mod.predict(x_test)\n",
    "print(predictions)"
   ]
  },
  {
   "cell_type": "code",
   "execution_count": 15,
   "metadata": {},
   "outputs": [],
   "source": [
    "LR1=LinearRegression()"
   ]
  },
  {
   "cell_type": "code",
   "execution_count": 16,
   "metadata": {},
   "outputs": [
    {
     "data": {
      "text/plain": [
       "LinearRegression(copy_X=True, fit_intercept=True, n_jobs=None, normalize=False)"
      ]
     },
     "execution_count": 16,
     "metadata": {},
     "output_type": "execute_result"
    }
   ],
   "source": [
    "LR1.fit(x,y)"
   ]
  },
  {
   "cell_type": "code",
   "execution_count": 17,
   "metadata": {},
   "outputs": [
    {
     "data": {
      "text/plain": [
       "0.9597705664329204"
      ]
     },
     "execution_count": 17,
     "metadata": {},
     "output_type": "execute_result"
    }
   ],
   "source": [
    "LR1.score(x,y)"
   ]
  },
  {
   "cell_type": "code",
   "execution_count": 18,
   "metadata": {},
   "outputs": [
    {
     "data": {
      "text/plain": [
       "array([3266.20830876])"
      ]
     },
     "execution_count": 18,
     "metadata": {},
     "output_type": "execute_result"
    }
   ],
   "source": [
    "myvals=np.array([37,13201,8.8,3874]).reshape(1,-1)\n",
    "lr_mod.predict(myvals)"
   ]
  },
  {
   "cell_type": "code",
   "execution_count": 19,
   "metadata": {},
   "outputs": [],
   "source": [
    "y_pred=lr_mod.predict(x_test)"
   ]
  },
  {
   "cell_type": "code",
   "execution_count": 20,
   "metadata": {},
   "outputs": [
    {
     "data": {
      "text/html": [
       "<div>\n",
       "<style scoped>\n",
       "    .dataframe tbody tr th:only-of-type {\n",
       "        vertical-align: middle;\n",
       "    }\n",
       "\n",
       "    .dataframe tbody tr th {\n",
       "        vertical-align: top;\n",
       "    }\n",
       "\n",
       "    .dataframe thead th {\n",
       "        text-align: right;\n",
       "    }\n",
       "</style>\n",
       "<table border=\"1\" class=\"dataframe\">\n",
       "  <thead>\n",
       "    <tr style=\"text-align: right;\">\n",
       "      <th></th>\n",
       "      <th>Actual</th>\n",
       "      <th>predicted</th>\n",
       "    </tr>\n",
       "  </thead>\n",
       "  <tbody>\n",
       "    <tr>\n",
       "      <td>28</td>\n",
       "      <td>3345</td>\n",
       "      <td>3387.023064</td>\n",
       "    </tr>\n",
       "    <tr>\n",
       "      <td>18</td>\n",
       "      <td>3239</td>\n",
       "      <td>3036.234483</td>\n",
       "    </tr>\n",
       "    <tr>\n",
       "      <td>27</td>\n",
       "      <td>3207</td>\n",
       "      <td>3325.589675</td>\n",
       "    </tr>\n",
       "    <tr>\n",
       "      <td>24</td>\n",
       "      <td>3151</td>\n",
       "      <td>3146.323980</td>\n",
       "    </tr>\n",
       "    <tr>\n",
       "      <td>22</td>\n",
       "      <td>2983</td>\n",
       "      <td>3056.683878</td>\n",
       "    </tr>\n",
       "    <tr>\n",
       "      <td>10</td>\n",
       "      <td>2524</td>\n",
       "      <td>2686.700145</td>\n",
       "    </tr>\n",
       "  </tbody>\n",
       "</table>\n",
       "</div>"
      ],
      "text/plain": [
       "    Actual    predicted\n",
       "28    3345  3387.023064\n",
       "18    3239  3036.234483\n",
       "27    3207  3325.589675\n",
       "24    3151  3146.323980\n",
       "22    2983  3056.683878\n",
       "10    2524  2686.700145"
      ]
     },
     "execution_count": 20,
     "metadata": {},
     "output_type": "execute_result"
    }
   ],
   "source": [
    "results=pd.DataFrame({'Actual':y_test,'predicted':y_pred})\n",
    "results"
   ]
  },
  {
   "cell_type": "code",
   "execution_count": 21,
   "metadata": {},
   "outputs": [
    {
     "data": {
      "text/plain": [
       "121.70032855511118"
      ]
     },
     "execution_count": 21,
     "metadata": {},
     "output_type": "execute_result"
    }
   ],
   "source": [
    "((results.Actual-results.predicted)**2).mean()**.5"
   ]
  },
  {
   "cell_type": "code",
   "execution_count": 22,
   "metadata": {},
   "outputs": [
    {
     "data": {
      "text/plain": [
       "121.70032855511118"
      ]
     },
     "execution_count": 22,
     "metadata": {},
     "output_type": "execute_result"
    }
   ],
   "source": [
    "(np.diff(results.values)**2).mean()**.5"
   ]
  },
  {
   "cell_type": "code",
   "execution_count": null,
   "metadata": {},
   "outputs": [],
   "source": []
  }
 ],
 "metadata": {
  "kernelspec": {
   "display_name": "Python 3",
   "language": "python",
   "name": "python3"
  },
  "language_info": {
   "codemirror_mode": {
    "name": "ipython",
    "version": 3
   },
   "file_extension": ".py",
   "mimetype": "text/x-python",
   "name": "python",
   "nbconvert_exporter": "python",
   "pygments_lexer": "ipython3",
   "version": "3.7.4"
  }
 },
 "nbformat": 4,
 "nbformat_minor": 2
}
